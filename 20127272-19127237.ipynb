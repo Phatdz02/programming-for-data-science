{
 "cells": [
  {
   "cell_type": "markdown",
   "metadata": {},
   "source": [
    "<h1 style = \"font-family: Comic Sans MS;background-color:#red\"> Introduction </h1>\n",
    "\n",
    "[Github link to project](https://github.com/Phatdz02/programming-for-data-science)\n",
    "\n",
    "Student in this final project:\n",
    "\n",
    "- 20127272 - Trần Thịnh Phát\n",
    "- 19127237 - Trương Minh Nhựt\n",
    "\n",
    "Being inspired by the teacher's sharing on the last day of the lecture `Programming for Data Science` about **health**, I decided to look for a related topic. Moreover, I am expecting to see a positive vibe in tech industry around the world about mental health problems."
   ]
  },
  {
   "cell_type": "markdown",
   "metadata": {},
   "source": [
    "<h1 style = \"font-family: Comic Sans MS;\"> Library </h1> \n",
    "\n",
    "Import neccessary library for this file."
   ]
  },
  {
   "cell_type": "code",
   "execution_count": null,
   "metadata": {},
   "outputs": [],
   "source": [
    "import sys\n",
    "sys.executable"
   ]
  },
  {
   "cell_type": "code",
   "execution_count": null,
   "metadata": {},
   "outputs": [],
   "source": [
    "import numpy as np\n",
    "import pandas as pd\n",
    "import seaborn as sns\n",
    "import matplotlib.pyplot as plt\n",
    "\n",
    "import warnings\n",
    "warnings.simplefilter('ignore')\n",
    "\n",
    "plt.style.use('seaborn-whitegrid')"
   ]
  }
 ],
 "metadata": {
  "kernelspec": {
   "display_name": "Python 3",
   "language": "python",
   "name": "python3"
  },
  "language_info": {
   "name": "python",
   "version": "3.11.6"
  }
 },
 "nbformat": 4,
 "nbformat_minor": 2
}
