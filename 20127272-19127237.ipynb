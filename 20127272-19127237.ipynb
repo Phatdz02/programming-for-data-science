{
 "cells": [
  {
   "cell_type": "markdown",
   "metadata": {},
   "source": [
    "<h1 style = \"font-family: Comic Sans MS;background-color:#red\"> Introduction </h1>\n",
    "\n",
    "[Github link to project](https://github.com/Phatdz02/programming-for-data-science/tree/main)\n",
    "\n",
    "Student in this final project:\n",
    "\n",
    "- 20127272 - Trần Thịnh Phát\n",
    "- 19127237 - Trương Minh Nhựt\n",
    "\n",
    "We chose the dataset for `Programming for Data Science` about **health**, we decided to search for a related topic. Furthermore, I expect to see a positive vibe in the tech industry worldwide regarding mental health issues."
   ]
  },
  {
   "cell_type": "markdown",
   "metadata": {},
   "source": [
    "<h1 style = \"font-family: Comic Sans MS;\"> Library </h1> \n",
    "\n",
    "Import neccessary library for this file."
   ]
  },
  {
   "cell_type": "code",
   "execution_count": null,
   "metadata": {},
   "outputs": [],
   "source": [
    "import sys\n",
    "sys.executable"
   ]
  },
  {
   "cell_type": "code",
   "execution_count": null,
   "metadata": {},
   "outputs": [],
   "source": [
    "import numpy as np\n",
    "import pandas as pd\n",
    "import seaborn as sns\n",
    "import matplotlib.pyplot as plt\n",
    "\n",
    "import warnings\n",
    "warnings.simplefilter('ignore')\n",
    "\n",
    "plt.style.use('seaborn-whitegrid')"
   ]
  },
  {
   "cell_type": "markdown",
   "metadata": {},
   "source": [
    "<h1 style = \"font-family: Comic Sans MS;\">  Data Collection </h1> \n",
    "    \n",
    "## Objectives and Ideas\n",
    "As sharing before, I decided to find the dataset about the mental health problems, especially in technology field. I found this whilst going on [Kaggle.com](https://www.kaggle.com/) which is a popular website with lots of useful dataset to start working.\n",
    "\n",
    "## Sources\n",
    "The title: *[Mental Health in Tech Survey](https://www.kaggle.com/datasets/osmi/mental-health-in-tech-survey?datasetId=311)* \\\n",
    "**Survey on Mental Health in the Tech Workplace in 2014**\n",
    "\n",
    "## About Dataset\n",
    "This dataset is from a 2014 survey that measures attitudes towards mental health and frequency of mental health disorders in the tech workplace.\n",
    "\n",
    "## The author\n",
    "The survey comes from **OSMI**.\\\n",
    "*OSMI is a non-profit 501c3 corporation dedicated to \"raising awareness, educating, and providing resources to support mental wellness in the tech and **open source** communities.\" What they do in support of this goal includes providing e-books on mental wellness in the workplace, hosting a forum on conversations on mental health, and holding talks at developer conferences about mental health in the community.* \\\n",
    "Details can be found at: *[About OSMI](https://osmihelp.org/index.html)* \n",
    "\n",
    "## License\n",
    "The dataset gets the License **CC BY-SA 4.0** for:\n",
    "- Share — copy and redistribute the material in any medium or format.\n",
    "- Adapt — remix, transform, and build upon the material for any purpose, even commercially.\n",
    "\n",
    "## Is it a sample, and was it properly sampled?\n",
    "Yes, it is a sample. I can't find official information about the data collection method, but it appears *not* to be a random sample (the survey link is available on their website), so I can assume that it is not representative.\n",
    "\n",
    "## How did authors collect data?\n",
    "OSMI provides a survey on mental health in tech industry. This survey contains a variety of questions pertaining to the mental health of the respondents, the demographics of the respondents, and how employer views on mental health in the workplace. This survey was conducted in 2014."
   ]
  }
 ],
 "metadata": {
  "kernelspec": {
   "display_name": "Python 3",
   "language": "python",
   "name": "python3"
  },
  "language_info": {
   "name": "python",
   "version": "3.11.6"
  }
 },
 "nbformat": 4,
 "nbformat_minor": 2
}
