{
 "cells": [
  {
   "cell_type": "markdown",
   "metadata": {},
   "source": [
    "<h1 style = \"font-family: Comic Sans MS;background-color:#red\"> Introduction </h1>\n",
    "\n",
    "[Github link to project](https://github.com/Phatdz02/programming-for-data-science)\n",
    "\n",
    "Student in this final project:\n",
    "\n",
    "- 20127272 - Trần Thịnh Phát\n",
    "- 19127237 - Trương Minh Nhựt\n",
    "\n",
    "Being inspired by the teacher's sharing on the last day of the lecture `Programming for Data Science` about **health**, I decided to look for a related topic. Moreover, I am expecting to see a positive vibe in tech industry around the world about mental health problems."
   ]
  }
 ],
 "metadata": {
  "language_info": {
   "name": "python"
  }
 },
 "nbformat": 4,
 "nbformat_minor": 2
}
